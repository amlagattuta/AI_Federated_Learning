{
  "nbformat": 4,
  "nbformat_minor": 0,
  "metadata": {
    "colab": {
      "provenance": [],
      "include_colab_link": true
    },
    "kernelspec": {
      "name": "python3",
      "display_name": "Python 3"
    },
    "language_info": {
      "name": "python"
    }
  },
  "cells": [
    {
      "cell_type": "markdown",
      "metadata": {
        "id": "view-in-github",
        "colab_type": "text"
      },
      "source": [
        "<a href=\"https://colab.research.google.com/github/amlagattuta/AI_Federated_Learning/blob/main/AIFinalPres.ipynb\" target=\"_parent\"><img src=\"https://colab.research.google.com/assets/colab-badge.svg\" alt=\"Open In Colab\"/></a>"
      ]
    },
    {
      "cell_type": "code",
      "execution_count": null,
      "metadata": {
        "colab": {
          "base_uri": "https://localhost:8080/"
        },
        "id": "2MkO-NvRu8oy",
        "outputId": "d32bf26e-beca-4c9c-bfb0-2d4ebc1ddb75"
      },
      "outputs": [
        {
          "output_type": "stream",
          "name": "stdout",
          "text": [
            "\u001b[31mERROR: pip's dependency resolver does not currently take into account all the packages that are installed. This behaviour is the source of the following dependency conflicts.\n",
            "pymc 5.1.2 requires cachetools>=4.2.1, but you have cachetools 3.1.1 which is incompatible.\n",
            "flax 0.6.8 requires jax>=0.4.2, but you have jax 0.3.15 which is incompatible.\n",
            "chex 0.1.7 requires jax>=0.4.6, but you have jax 0.3.15 which is incompatible.\n",
            "arviz 0.15.1 requires scipy>=1.8.0, but you have scipy 1.7.3 which is incompatible.\u001b[0m\u001b[31m\n",
            "\u001b[0m"
          ]
        }
      ],
      "source": [
        "#We don't have client devices to use.\n",
        "#Therefore, this is simulated federated learning."
      ]
    },
    {
      "cell_type": "code",
      "source": [
        "!pip --quiet install tensorflow-federated"
      ],
      "metadata": {
        "id": "ZRUKsxCUAQhA",
        "colab": {
          "base_uri": "https://localhost:8080/"
        },
        "outputId": "c29ca125-84cf-4f29-fd1e-06ca10370f85"
      },
      "execution_count": null,
      "outputs": [
        {
          "output_type": "stream",
          "name": "stdout",
          "text": [
            "\u001b[2K     \u001b[90m━━━━━━━━━━━━━━━━━━━━━━━━━━━━━━━━━━━━━━━━\u001b[0m \u001b[32m40.1/40.1 MB\u001b[0m \u001b[31m21.8 MB/s\u001b[0m eta \u001b[36m0:00:00\u001b[0m\n",
            "\u001b[2K     \u001b[90m━━━━━━━━━━━━━━━━━━━━━━━━━━━━━━━━━━━━━━━━\u001b[0m \u001b[32m72.0/72.0 MB\u001b[0m \u001b[31m13.0 MB/s\u001b[0m eta \u001b[36m0:00:00\u001b[0m\n",
            "\u001b[2K     \u001b[90m━━━━━━━━━━━━━━━━━━━━━━━━━━━━━━━━━━━━━━━━\u001b[0m \u001b[32m60.6/60.6 kB\u001b[0m \u001b[31m6.8 MB/s\u001b[0m eta \u001b[36m0:00:00\u001b[0m\n",
            "\u001b[2K     \u001b[90m━━━━━━━━━━━━━━━━━━━━━━━━━━━━━━━━━━━━━━\u001b[0m \u001b[32m255.8/255.8 kB\u001b[0m \u001b[31m24.8 MB/s\u001b[0m eta \u001b[36m0:00:00\u001b[0m\n",
            "\u001b[2K     \u001b[90m━━━━━━━━━━━━━━━━━━━━━━━━━━━━━━━━━━━━━━━━\u001b[0m \u001b[32m89.9/89.9 kB\u001b[0m \u001b[31m9.9 MB/s\u001b[0m eta \u001b[36m0:00:00\u001b[0m\n",
            "\u001b[2K     \u001b[90m━━━━━━━━━━━━━━━━━━━━━━━━━━━━━━━━━━━━━━━━\u001b[0m \u001b[32m1.0/1.0 MB\u001b[0m \u001b[31m70.7 MB/s\u001b[0m eta \u001b[36m0:00:00\u001b[0m\n",
            "\u001b[?25h  Preparing metadata (setup.py) ... \u001b[?25l\u001b[?25hdone\n",
            "\u001b[2K     \u001b[90m━━━━━━━━━━━━━━━━━━━━━━━━━━━━━━━━━━━━━━\u001b[0m \u001b[32m238.9/238.9 kB\u001b[0m \u001b[31m24.1 MB/s\u001b[0m eta \u001b[36m0:00:00\u001b[0m\n",
            "\u001b[2K     \u001b[90m━━━━━━━━━━━━━━━━━━━━━━━━━━━━━━━━━━━━━━\u001b[0m \u001b[32m120.2/120.2 kB\u001b[0m \u001b[31m14.0 MB/s\u001b[0m eta \u001b[36m0:00:00\u001b[0m\n",
            "\u001b[2K     \u001b[90m━━━━━━━━━━━━━━━━━━━━━━━━━━━━━━━━━━━━━━\u001b[0m \u001b[32m349.0/349.0 kB\u001b[0m \u001b[31m35.3 MB/s\u001b[0m eta \u001b[36m0:00:00\u001b[0m\n",
            "\u001b[2K     \u001b[90m━━━━━━━━━━━━━━━━━━━━━━━━━━━━━━━━━━━━━━\u001b[0m \u001b[32m142.7/142.7 kB\u001b[0m \u001b[31m17.1 MB/s\u001b[0m eta \u001b[36m0:00:00\u001b[0m\n",
            "\u001b[2K     \u001b[90m━━━━━━━━━━━━━━━━━━━━━━━━━━━━━━━━━━━━━━━━\u001b[0m \u001b[32m3.0/3.0 MB\u001b[0m \u001b[31m101.4 MB/s\u001b[0m eta \u001b[36m0:00:00\u001b[0m\n",
            "\u001b[2K     \u001b[90m━━━━━━━━━━━━━━━━━━━━━━━━━━━━━━━━━━━━━━━━\u001b[0m \u001b[32m39.8/39.8 MB\u001b[0m \u001b[31m19.5 MB/s\u001b[0m eta \u001b[36m0:00:00\u001b[0m\n",
            "\u001b[2K     \u001b[90m━━━━━━━━━━━━━━━━━━━━━━━━━━━━━━━━━━━━━━\u001b[0m \u001b[32m126.7/126.7 kB\u001b[0m \u001b[31m16.6 MB/s\u001b[0m eta \u001b[36m0:00:00\u001b[0m\n",
            "\u001b[2K     \u001b[90m━━━━━━━━━━━━━━━━━━━━━━━━━━━━━━━━━━━━━━\u001b[0m \u001b[32m532.6/532.6 kB\u001b[0m \u001b[31m45.5 MB/s\u001b[0m eta \u001b[36m0:00:00\u001b[0m\n",
            "\u001b[2K     \u001b[90m━━━━━━━━━━━━━━━━━━━━━━━━━━━━━━━━━━━━━━━━\u001b[0m \u001b[32m2.8/2.8 MB\u001b[0m \u001b[31m87.5 MB/s\u001b[0m eta \u001b[36m0:00:00\u001b[0m\n",
            "\u001b[2K     \u001b[90m━━━━━━━━━━━━━━━━━━━━━━━━━━━━━━━━━━━━━━\u001b[0m \u001b[32m146.0/146.0 kB\u001b[0m \u001b[31m17.5 MB/s\u001b[0m eta \u001b[36m0:00:00\u001b[0m\n",
            "\u001b[2K     \u001b[90m━━━━━━━━━━━━━━━━━━━━━━━━━━━━━━━━━━━━━━━━\u001b[0m \u001b[32m2.0/2.0 MB\u001b[0m \u001b[31m74.2 MB/s\u001b[0m eta \u001b[36m0:00:00\u001b[0m\n",
            "\u001b[2K     \u001b[90m━━━━━━━━━━━━━━━━━━━━━━━━━━━━━━━━━━━━━━━━\u001b[0m \u001b[32m42.6/42.6 kB\u001b[0m \u001b[31m4.2 MB/s\u001b[0m eta \u001b[36m0:00:00\u001b[0m\n",
            "\u001b[2K     \u001b[90m━━━━━━━━━━━━━━━━━━━━━━━━━━━━━━━━━━━━━━━━\u001b[0m \u001b[32m5.7/5.7 MB\u001b[0m \u001b[31m39.7 MB/s\u001b[0m eta \u001b[36m0:00:00\u001b[0m\n",
            "\u001b[?25h  Building wheel for jax (setup.py) ... \u001b[?25l\u001b[?25hdone\n",
            "\u001b[31mERROR: pip's dependency resolver does not currently take into account all the packages that are installed. This behaviour is the source of the following dependency conflicts.\n",
            "pymc 5.1.2 requires cachetools>=4.2.1, but you have cachetools 3.1.1 which is incompatible.\n",
            "orbax 0.1.7 requires jax>=0.4.6, but you have jax 0.3.15 which is incompatible.\n",
            "google-colab 1.0.0 requires portpicker~=1.3.1, but you have portpicker 1.5.2 which is incompatible.\n",
            "flax 0.6.8 requires jax>=0.4.2, but you have jax 0.3.15 which is incompatible.\n",
            "chex 0.1.7 requires jax>=0.4.6, but you have jax 0.3.15 which is incompatible.\n",
            "arviz 0.15.1 requires scipy>=1.8.0, but you have scipy 1.7.3 which is incompatible.\u001b[0m\u001b[31m\n",
            "\u001b[0m"
          ]
        }
      ]
    },
    {
      "cell_type": "code",
      "source": [
        "pip install tensorflow-federated"
      ],
      "metadata": {
        "colab": {
          "base_uri": "https://localhost:8080/"
        },
        "id": "BJYxqVEi6lvr",
        "outputId": "d7e86071-cd2c-4442-c9af-b2d08499d99c"
      },
      "execution_count": null,
      "outputs": [
        {
          "output_type": "stream",
          "name": "stdout",
          "text": [
            "Looking in indexes: https://pypi.org/simple, https://us-python.pkg.dev/colab-wheels/public/simple/\n",
            "Requirement already satisfied: tensorflow-federated in /usr/local/lib/python3.9/dist-packages (0.54.0)\n",
            "Requirement already satisfied: cachetools~=3.1 in /usr/local/lib/python3.9/dist-packages (from tensorflow-federated) (3.1.1)\n",
            "Requirement already satisfied: tensorflow~=2.12.0 in /usr/local/lib/python3.9/dist-packages (from tensorflow-federated) (2.12.0)\n",
            "Requirement already satisfied: dm-tree==0.1.7 in /usr/local/lib/python3.9/dist-packages (from tensorflow-federated) (0.1.7)\n",
            "Requirement already satisfied: typing-extensions~=4.4.0 in /usr/local/lib/python3.9/dist-packages (from tensorflow-federated) (4.4.0)\n",
            "Requirement already satisfied: jaxlib==0.3.15 in /usr/local/lib/python3.9/dist-packages (from tensorflow-federated) (0.3.15)\n",
            "Requirement already satisfied: farmhashpy==0.4.0 in /usr/local/lib/python3.9/dist-packages (from tensorflow-federated) (0.4.0)\n",
            "Requirement already satisfied: numpy~=1.21 in /usr/local/lib/python3.9/dist-packages (from tensorflow-federated) (1.22.4)\n",
            "Requirement already satisfied: tqdm~=4.64 in /usr/local/lib/python3.9/dist-packages (from tensorflow-federated) (4.65.0)\n",
            "Requirement already satisfied: pytype==2022.12.15 in /usr/local/lib/python3.9/dist-packages (from tensorflow-federated) (2022.12.15)\n",
            "Requirement already satisfied: dp-accounting==0.3.0 in /usr/local/lib/python3.9/dist-packages (from tensorflow-federated) (0.3.0)\n",
            "Requirement already satisfied: tensorflow-compression~=2.12.0 in /usr/local/lib/python3.9/dist-packages (from tensorflow-federated) (2.12.0)\n",
            "Requirement already satisfied: portpicker~=1.5 in /usr/local/lib/python3.9/dist-packages (from tensorflow-federated) (1.5.2)\n",
            "Requirement already satisfied: absl-py==1.*,>=1.0 in /usr/local/lib/python3.9/dist-packages (from tensorflow-federated) (1.0.0)\n",
            "Requirement already satisfied: jax==0.3.15 in /usr/local/lib/python3.9/dist-packages (from tensorflow-federated) (0.3.15)\n",
            "Requirement already satisfied: tensorflow-model-optimization==0.7.3 in /usr/local/lib/python3.9/dist-packages (from tensorflow-federated) (0.7.3)\n",
            "Requirement already satisfied: grpcio~=1.46 in /usr/local/lib/python3.9/dist-packages (from tensorflow-federated) (1.53.0)\n",
            "Requirement already satisfied: semantic-version~=2.6 in /usr/local/lib/python3.9/dist-packages (from tensorflow-federated) (2.10.0)\n",
            "Requirement already satisfied: tensorflow-privacy==0.8.8 in /usr/local/lib/python3.9/dist-packages (from tensorflow-federated) (0.8.8)\n",
            "Requirement already satisfied: attrs~=21.4 in /usr/local/lib/python3.9/dist-packages (from tensorflow-federated) (21.4.0)\n",
            "Requirement already satisfied: six in /usr/local/lib/python3.9/dist-packages (from absl-py==1.*,>=1.0->tensorflow-federated) (1.16.0)\n",
            "Requirement already satisfied: mpmath~=1.2.1 in /usr/local/lib/python3.9/dist-packages (from dp-accounting==0.3.0->tensorflow-federated) (1.2.1)\n",
            "Requirement already satisfied: scipy~=1.7.1 in /usr/local/lib/python3.9/dist-packages (from dp-accounting==0.3.0->tensorflow-federated) (1.7.3)\n",
            "Requirement already satisfied: opt-einsum in /usr/local/lib/python3.9/dist-packages (from jax==0.3.15->tensorflow-federated) (3.3.0)\n",
            "Requirement already satisfied: etils[epath] in /usr/local/lib/python3.9/dist-packages (from jax==0.3.15->tensorflow-federated) (1.1.1)\n",
            "Requirement already satisfied: libcst>=0.4.5 in /usr/local/lib/python3.9/dist-packages (from pytype==2022.12.15->tensorflow-federated) (0.4.9)\n",
            "Requirement already satisfied: importlab>=0.8 in /usr/local/lib/python3.9/dist-packages (from pytype==2022.12.15->tensorflow-federated) (0.8)\n",
            "Requirement already satisfied: pydot>=1.4.2 in /usr/local/lib/python3.9/dist-packages (from pytype==2022.12.15->tensorflow-federated) (1.4.2)\n",
            "Requirement already satisfied: toml>=0.10.2 in /usr/local/lib/python3.9/dist-packages (from pytype==2022.12.15->tensorflow-federated) (0.10.2)\n",
            "Requirement already satisfied: ninja>=1.10.0.post2 in /usr/local/lib/python3.9/dist-packages (from pytype==2022.12.15->tensorflow-federated) (1.11.1)\n",
            "Requirement already satisfied: jinja2>=3.1.2 in /usr/local/lib/python3.9/dist-packages (from pytype==2022.12.15->tensorflow-federated) (3.1.2)\n",
            "Requirement already satisfied: tabulate>=0.8.10 in /usr/local/lib/python3.9/dist-packages (from pytype==2022.12.15->tensorflow-federated) (0.8.10)\n",
            "Requirement already satisfied: networkx<2.8.4 in /usr/local/lib/python3.9/dist-packages (from pytype==2022.12.15->tensorflow-federated) (2.8.3)\n",
            "Requirement already satisfied: statsmodels~=0.13 in /usr/local/lib/python3.9/dist-packages (from tensorflow-privacy==0.8.8->tensorflow-federated) (0.13.5)\n",
            "Requirement already satisfied: tensorflow-probability==0.15.0 in /usr/local/lib/python3.9/dist-packages (from tensorflow-privacy==0.8.8->tensorflow-federated) (0.15.0)\n",
            "Requirement already satisfied: matplotlib~=3.3 in /usr/local/lib/python3.9/dist-packages (from tensorflow-privacy==0.8.8->tensorflow-federated) (3.7.1)\n",
            "Requirement already satisfied: parameterized~=0.8 in /usr/local/lib/python3.9/dist-packages (from tensorflow-privacy==0.8.8->tensorflow-federated) (0.9.0)\n",
            "Requirement already satisfied: tensorflow-datasets~=4.5 in /usr/local/lib/python3.9/dist-packages (from tensorflow-privacy==0.8.8->tensorflow-federated) (4.8.3)\n",
            "Requirement already satisfied: pandas~=1.4 in /usr/local/lib/python3.9/dist-packages (from tensorflow-privacy==0.8.8->tensorflow-federated) (1.4.4)\n",
            "Requirement already satisfied: immutabledict~=2.2 in /usr/local/lib/python3.9/dist-packages (from tensorflow-privacy==0.8.8->tensorflow-federated) (2.2.4)\n",
            "Requirement already satisfied: scikit-learn==1.*,>=1.0 in /usr/local/lib/python3.9/dist-packages (from tensorflow-privacy==0.8.8->tensorflow-federated) (1.2.2)\n",
            "Requirement already satisfied: tensorflow-estimator~=2.4 in /usr/local/lib/python3.9/dist-packages (from tensorflow-privacy==0.8.8->tensorflow-federated) (2.12.0)\n",
            "Requirement already satisfied: packaging~=22.0 in /usr/local/lib/python3.9/dist-packages (from tensorflow-privacy==0.8.8->tensorflow-federated) (22.0)\n",
            "Requirement already satisfied: threadpoolctl>=2.0.0 in /usr/local/lib/python3.9/dist-packages (from scikit-learn==1.*,>=1.0->tensorflow-privacy==0.8.8->tensorflow-federated) (3.1.0)\n",
            "Requirement already satisfied: joblib>=1.1.1 in /usr/local/lib/python3.9/dist-packages (from scikit-learn==1.*,>=1.0->tensorflow-privacy==0.8.8->tensorflow-federated) (1.1.1)\n",
            "Requirement already satisfied: decorator in /usr/local/lib/python3.9/dist-packages (from tensorflow-probability==0.15.0->tensorflow-privacy==0.8.8->tensorflow-federated) (4.4.2)\n",
            "Requirement already satisfied: gast>=0.3.2 in /usr/local/lib/python3.9/dist-packages (from tensorflow-probability==0.15.0->tensorflow-privacy==0.8.8->tensorflow-federated) (0.4.0)\n",
            "Requirement already satisfied: cloudpickle>=1.3 in /usr/local/lib/python3.9/dist-packages (from tensorflow-probability==0.15.0->tensorflow-privacy==0.8.8->tensorflow-federated) (2.2.1)\n",
            "Requirement already satisfied: psutil in /usr/local/lib/python3.9/dist-packages (from portpicker~=1.5->tensorflow-federated) (5.9.4)\n",
            "Requirement already satisfied: flatbuffers>=2.0 in /usr/local/lib/python3.9/dist-packages (from tensorflow~=2.12.0->tensorflow-federated) (23.3.3)\n",
            "Requirement already satisfied: h5py>=2.9.0 in /usr/local/lib/python3.9/dist-packages (from tensorflow~=2.12.0->tensorflow-federated) (3.8.0)\n",
            "Requirement already satisfied: termcolor>=1.1.0 in /usr/local/lib/python3.9/dist-packages (from tensorflow~=2.12.0->tensorflow-federated) (2.2.0)\n",
            "Requirement already satisfied: keras<2.13,>=2.12.0 in /usr/local/lib/python3.9/dist-packages (from tensorflow~=2.12.0->tensorflow-federated) (2.12.0)\n",
            "Requirement already satisfied: tensorflow-io-gcs-filesystem>=0.23.1 in /usr/local/lib/python3.9/dist-packages (from tensorflow~=2.12.0->tensorflow-federated) (0.32.0)\n",
            "Requirement already satisfied: tensorboard<2.13,>=2.12 in /usr/local/lib/python3.9/dist-packages (from tensorflow~=2.12.0->tensorflow-federated) (2.12.1)\n",
            "Requirement already satisfied: google-pasta>=0.1.1 in /usr/local/lib/python3.9/dist-packages (from tensorflow~=2.12.0->tensorflow-federated) (0.2.0)\n",
            "Requirement already satisfied: setuptools in /usr/local/lib/python3.9/dist-packages (from tensorflow~=2.12.0->tensorflow-federated) (67.6.1)\n",
            "Requirement already satisfied: protobuf!=4.21.0,!=4.21.1,!=4.21.2,!=4.21.3,!=4.21.4,!=4.21.5,<5.0.0dev,>=3.20.3 in /usr/local/lib/python3.9/dist-packages (from tensorflow~=2.12.0->tensorflow-federated) (3.20.3)\n",
            "Requirement already satisfied: astunparse>=1.6.0 in /usr/local/lib/python3.9/dist-packages (from tensorflow~=2.12.0->tensorflow-federated) (1.6.3)\n",
            "Requirement already satisfied: wrapt<1.15,>=1.11.0 in /usr/local/lib/python3.9/dist-packages (from tensorflow~=2.12.0->tensorflow-federated) (1.14.1)\n",
            "Requirement already satisfied: libclang>=13.0.0 in /usr/local/lib/python3.9/dist-packages (from tensorflow~=2.12.0->tensorflow-federated) (16.0.0)\n",
            "Requirement already satisfied: wheel<1.0,>=0.23.0 in /usr/local/lib/python3.9/dist-packages (from astunparse>=1.6.0->tensorflow~=2.12.0->tensorflow-federated) (0.40.0)\n",
            "Requirement already satisfied: MarkupSafe>=2.0 in /usr/local/lib/python3.9/dist-packages (from jinja2>=3.1.2->pytype==2022.12.15->tensorflow-federated) (2.1.2)\n",
            "Requirement already satisfied: typing-inspect>=0.4.0 in /usr/local/lib/python3.9/dist-packages (from libcst>=0.4.5->pytype==2022.12.15->tensorflow-federated) (0.8.0)\n",
            "Requirement already satisfied: pyyaml>=5.2 in /usr/local/lib/python3.9/dist-packages (from libcst>=0.4.5->pytype==2022.12.15->tensorflow-federated) (6.0)\n",
            "Requirement already satisfied: fonttools>=4.22.0 in /usr/local/lib/python3.9/dist-packages (from matplotlib~=3.3->tensorflow-privacy==0.8.8->tensorflow-federated) (4.39.3)\n",
            "Requirement already satisfied: python-dateutil>=2.7 in /usr/local/lib/python3.9/dist-packages (from matplotlib~=3.3->tensorflow-privacy==0.8.8->tensorflow-federated) (2.8.2)\n",
            "Requirement already satisfied: pyparsing>=2.3.1 in /usr/local/lib/python3.9/dist-packages (from matplotlib~=3.3->tensorflow-privacy==0.8.8->tensorflow-federated) (3.0.9)\n",
            "Requirement already satisfied: importlib-resources>=3.2.0 in /usr/local/lib/python3.9/dist-packages (from matplotlib~=3.3->tensorflow-privacy==0.8.8->tensorflow-federated) (5.12.0)\n",
            "Requirement already satisfied: pillow>=6.2.0 in /usr/local/lib/python3.9/dist-packages (from matplotlib~=3.3->tensorflow-privacy==0.8.8->tensorflow-federated) (8.4.0)\n",
            "Requirement already satisfied: contourpy>=1.0.1 in /usr/local/lib/python3.9/dist-packages (from matplotlib~=3.3->tensorflow-privacy==0.8.8->tensorflow-federated) (1.0.7)\n",
            "Requirement already satisfied: kiwisolver>=1.0.1 in /usr/local/lib/python3.9/dist-packages (from matplotlib~=3.3->tensorflow-privacy==0.8.8->tensorflow-federated) (1.4.4)\n",
            "Requirement already satisfied: cycler>=0.10 in /usr/local/lib/python3.9/dist-packages (from matplotlib~=3.3->tensorflow-privacy==0.8.8->tensorflow-federated) (0.11.0)\n",
            "Requirement already satisfied: pytz>=2020.1 in /usr/local/lib/python3.9/dist-packages (from pandas~=1.4->tensorflow-privacy==0.8.8->tensorflow-federated) (2022.7.1)\n",
            "Requirement already satisfied: patsy>=0.5.2 in /usr/local/lib/python3.9/dist-packages (from statsmodels~=0.13->tensorflow-privacy==0.8.8->tensorflow-federated) (0.5.3)\n",
            "Requirement already satisfied: markdown>=2.6.8 in /usr/local/lib/python3.9/dist-packages (from tensorboard<2.13,>=2.12->tensorflow~=2.12.0->tensorflow-federated) (3.4.3)\n",
            "Requirement already satisfied: google-auth<3,>=1.6.3 in /usr/local/lib/python3.9/dist-packages (from tensorboard<2.13,>=2.12->tensorflow~=2.12.0->tensorflow-federated) (2.17.1)\n",
            "Requirement already satisfied: tensorboard-data-server<0.8.0,>=0.7.0 in /usr/local/lib/python3.9/dist-packages (from tensorboard<2.13,>=2.12->tensorflow~=2.12.0->tensorflow-federated) (0.7.0)\n",
            "Requirement already satisfied: requests<3,>=2.21.0 in /usr/local/lib/python3.9/dist-packages (from tensorboard<2.13,>=2.12->tensorflow~=2.12.0->tensorflow-federated) (2.27.1)\n",
            "Requirement already satisfied: werkzeug>=1.0.1 in /usr/local/lib/python3.9/dist-packages (from tensorboard<2.13,>=2.12->tensorflow~=2.12.0->tensorflow-federated) (2.2.3)\n",
            "Requirement already satisfied: tensorboard-plugin-wit>=1.6.0 in /usr/local/lib/python3.9/dist-packages (from tensorboard<2.13,>=2.12->tensorflow~=2.12.0->tensorflow-federated) (1.8.1)\n",
            "Requirement already satisfied: google-auth-oauthlib<1.1,>=0.5 in /usr/local/lib/python3.9/dist-packages (from tensorboard<2.13,>=2.12->tensorflow~=2.12.0->tensorflow-federated) (1.0.0)\n",
            "Requirement already satisfied: promise in /usr/local/lib/python3.9/dist-packages (from tensorflow-datasets~=4.5->tensorflow-privacy==0.8.8->tensorflow-federated) (2.3)\n",
            "Requirement already satisfied: click in /usr/local/lib/python3.9/dist-packages (from tensorflow-datasets~=4.5->tensorflow-privacy==0.8.8->tensorflow-federated) (8.1.3)\n",
            "Requirement already satisfied: tensorflow-metadata in /usr/local/lib/python3.9/dist-packages (from tensorflow-datasets~=4.5->tensorflow-privacy==0.8.8->tensorflow-federated) (1.13.0)\n",
            "Requirement already satisfied: zipp in /usr/local/lib/python3.9/dist-packages (from etils[epath]->jax==0.3.15->tensorflow-federated) (3.15.0)\n",
            "Requirement already satisfied: pyasn1-modules>=0.2.1 in /usr/local/lib/python3.9/dist-packages (from google-auth<3,>=1.6.3->tensorboard<2.13,>=2.12->tensorflow~=2.12.0->tensorflow-federated) (0.2.8)\n",
            "Requirement already satisfied: rsa<5,>=3.1.4 in /usr/local/lib/python3.9/dist-packages (from google-auth<3,>=1.6.3->tensorboard<2.13,>=2.12->tensorflow~=2.12.0->tensorflow-federated) (4.9)\n",
            "Requirement already satisfied: requests-oauthlib>=0.7.0 in /usr/local/lib/python3.9/dist-packages (from google-auth-oauthlib<1.1,>=0.5->tensorboard<2.13,>=2.12->tensorflow~=2.12.0->tensorflow-federated) (1.3.1)\n",
            "Requirement already satisfied: importlib-metadata>=4.4 in /usr/local/lib/python3.9/dist-packages (from markdown>=2.6.8->tensorboard<2.13,>=2.12->tensorflow~=2.12.0->tensorflow-federated) (6.1.0)\n",
            "Requirement already satisfied: idna<4,>=2.5 in /usr/local/lib/python3.9/dist-packages (from requests<3,>=2.21.0->tensorboard<2.13,>=2.12->tensorflow~=2.12.0->tensorflow-federated) (3.4)\n",
            "Requirement already satisfied: certifi>=2017.4.17 in /usr/local/lib/python3.9/dist-packages (from requests<3,>=2.21.0->tensorboard<2.13,>=2.12->tensorflow~=2.12.0->tensorflow-federated) (2022.12.7)\n",
            "Requirement already satisfied: urllib3<1.27,>=1.21.1 in /usr/local/lib/python3.9/dist-packages (from requests<3,>=2.21.0->tensorboard<2.13,>=2.12->tensorflow~=2.12.0->tensorflow-federated) (1.26.15)\n",
            "Requirement already satisfied: charset-normalizer~=2.0.0 in /usr/local/lib/python3.9/dist-packages (from requests<3,>=2.21.0->tensorboard<2.13,>=2.12->tensorflow~=2.12.0->tensorflow-federated) (2.0.12)\n",
            "Requirement already satisfied: mypy-extensions>=0.3.0 in /usr/local/lib/python3.9/dist-packages (from typing-inspect>=0.4.0->libcst>=0.4.5->pytype==2022.12.15->tensorflow-federated) (1.0.0)\n",
            "Requirement already satisfied: googleapis-common-protos<2,>=1.52.0 in /usr/local/lib/python3.9/dist-packages (from tensorflow-metadata->tensorflow-datasets~=4.5->tensorflow-privacy==0.8.8->tensorflow-federated) (1.59.0)\n",
            "Requirement already satisfied: pyasn1<0.5.0,>=0.4.6 in /usr/local/lib/python3.9/dist-packages (from pyasn1-modules>=0.2.1->google-auth<3,>=1.6.3->tensorboard<2.13,>=2.12->tensorflow~=2.12.0->tensorflow-federated) (0.4.8)\n",
            "Requirement already satisfied: oauthlib>=3.0.0 in /usr/local/lib/python3.9/dist-packages (from requests-oauthlib>=0.7.0->google-auth-oauthlib<1.1,>=0.5->tensorboard<2.13,>=2.12->tensorflow~=2.12.0->tensorflow-federated) (3.2.2)\n"
          ]
        }
      ]
    },
    {
      "cell_type": "code",
      "source": [
        "import tensorflow as tf\n",
        "import tensorflow_federated as tff\n",
        "import pandas as pd"
      ],
      "metadata": {
        "id": "wAT28FWnvNBf"
      },
      "execution_count": null,
      "outputs": []
    },
    {
      "cell_type": "code",
      "source": [
        "# Load simulation data. Only using train data\n",
        "source, _ = tf.keras.datasets.fashion_mnist.load_data()"
      ],
      "metadata": {
        "id": "7y0PoCpSvVsY",
        "colab": {
          "base_uri": "https://localhost:8080/"
        },
        "outputId": "5c691e78-4296-46b0-f175-e9b02a44d5c3"
      },
      "execution_count": null,
      "outputs": [
        {
          "output_type": "stream",
          "name": "stdout",
          "text": [
            "Downloading data from https://storage.googleapis.com/tensorflow/tf-keras-datasets/train-labels-idx1-ubyte.gz\n",
            "29515/29515 [==============================] - 0s 0us/step\n",
            "Downloading data from https://storage.googleapis.com/tensorflow/tf-keras-datasets/train-images-idx3-ubyte.gz\n",
            "26421880/26421880 [==============================] - 0s 0us/step\n",
            "Downloading data from https://storage.googleapis.com/tensorflow/tf-keras-datasets/t10k-labels-idx1-ubyte.gz\n",
            "5148/5148 [==============================] - 0s 0us/step\n",
            "Downloading data from https://storage.googleapis.com/tensorflow/tf-keras-datasets/t10k-images-idx3-ubyte.gz\n",
            "4422102/4422102 [==============================] - 0s 0us/step\n"
          ]
        }
      ]
    },
    {
      "cell_type": "code",
      "source": [
        "def client_data(n):\n",
        "  return tf.data.Dataset.from_tensor_slices(\n",
        "      #Source[1] represents the label an image has\n",
        "      #So this line is subsetting all the images that belong to label N\n",
        "      #Therefore, client_data[0], the first group, are all images that belong to category 0 (eg. dress)\n",
        "      #This makes sense, for example if you have clients that specialize in a form of apparel. One client may just sell dresses while another just sells coats.\n",
        "      (tf.reshape(source[0][source[1] == n], [-1, 784]),\n",
        "       source[1][source[1] == n])\n",
        "  ).repeat(10).batch(20)\n",
        "  #Those images are flattened with .reshape()\n",
        "  #These tuples of (image vector, label) are repeated 10 times to be used for training\n",
        "  #This  dataset is put into batches with 20 elements each"
      ],
      "metadata": {
        "id": "56h2P121xOA_"
      },
      "execution_count": null,
      "outputs": []
    },
    {
      "cell_type": "code",
      "source": [
        "#Pick a subset of client devices to participate in training.\n",
        "#Here we are picking three categories of apparel\n",
        "#They are three different groups of data, but each group is just one category\n",
        "train_data = [client_data(n) for n in range(3)]"
      ],
      "metadata": {
        "id": "zSZItdQQyDMy"
      },
      "execution_count": null,
      "outputs": []
    },
    {
      "cell_type": "code",
      "source": [
        "# Wrap a Keras model for use with TFF.\n",
        "def model_fn():\n",
        "  model = tf.keras.models.Sequential([\n",
        "      tf.keras.layers.Dense(10, tf.nn.softmax, input_shape=(784,),\n",
        "                            kernel_initializer='zeros')\n",
        "  ])\n",
        "  return tff.learning.models.from_keras_model(\n",
        "      model,\n",
        "      input_spec=train_data[0].element_spec,\n",
        "      loss=tf.keras.losses.SparseCategoricalCrossentropy(),\n",
        "      metrics=[tf.keras.metrics.SparseCategoricalAccuracy()])\n",
        "\n",
        "# Simulate a few rounds of training with the selected client devices.\n",
        "trainer = tff.learning.algorithms.build_weighted_fed_avg(\n",
        "  model_fn,\n",
        "  client_optimizer_fn=lambda: tf.keras.optimizers.SGD(0.01))\n",
        "state = trainer.initialize()\n",
        "for _ in range(7):\n",
        "  result = trainer.next(state, train_data)\n",
        "  state = result.state\n",
        "  metrics = result.metrics\n",
        "  print(metrics['client_work']['train']['loss'])\n",
        "  #First loss metric here is so good because the model is only seeing one category\n",
        "  #Loss metric gradually increases as new categories are introduced because there are more options for the model to use\n",
        "  #After 3 rounds, the loss function improves dramatically because the model continues to train but no longer receives new categories to learn"
      ],
      "metadata": {
        "colab": {
          "base_uri": "https://localhost:8080/"
        },
        "id": "TURTA9Zgy1zc",
        "outputId": "1b4950f0-26c1-4f6b-838f-45bbec352cb2"
      },
      "execution_count": null,
      "outputs": [
        {
          "output_type": "stream",
          "name": "stdout",
          "text": [
            "0.0007684818\n",
            "0.17754644\n",
            "0.23579596\n",
            "0.496357\n",
            "0.16631602\n",
            "0.13366593\n",
            "0.2512209\n"
          ]
        }
      ]
    },
    {
      "cell_type": "markdown",
      "source": [
        "**All code in one cell**"
      ],
      "metadata": {
        "id": "3BgqI7l7BJ7V"
      }
    },
    {
      "cell_type": "code",
      "source": [
        "import tensorflow as tf\n",
        "import tensorflow_federated as tff\n",
        "import pandas as pd\n",
        "# Load simulation data.\n",
        "source, _ = tf.keras.datasets.fashion_mnist.load_data()\n",
        "def client_data(n):\n",
        "  return tf.data.Dataset.from_tensor_slices(\n",
        "      (tf.reshape(source[0][source[1] == n], [-1, 784]),\n",
        "       source[1][source[1] == n])\n",
        "  ).repeat(10).batch(20)\n",
        "# Pick a subset of client devices to participate in training.\n",
        "#this determines number of categories from fashion mnist dataset we use\n",
        "train_data = [client_data(n) for n in range(10)]\n",
        "# Wrap a Keras model for use with TFF.\n",
        "def model_fn():\n",
        "  model = tf.keras.models.Sequential([\n",
        "      tf.keras.layers.Dense(10, tf.nn.softmax, input_shape=(784,),\n",
        "                            kernel_initializer='zeros')\n",
        "  ])\n",
        "  return tff.learning.models.from_keras_model(\n",
        "      model,\n",
        "      input_spec=train_data[0].element_spec,\n",
        "      loss=tf.keras.losses.SparseCategoricalCrossentropy(),\n",
        "      metrics=[tf.keras.metrics.SparseCategoricalAccuracy()])\n",
        "\n",
        "# Simulate a few rounds of training with the selected client devices.\n",
        "trainer = tff.learning.algorithms.build_weighted_fed_avg(\n",
        "  model_fn,\n",
        "  client_optimizer_fn=lambda: tf.keras.optimizers.SGD(0.01))\n",
        "state = trainer.initialize()\n",
        "#n here determines how many simulations ie how many loss values are outputted. If this number is less than the number of client devices then we are missing out on output data\n",
        "#if you simulate past the number of client devices, the loss value should improve because it is now only training on categories it has previously seen, not getting any new information\n",
        "for _ in range(15):\n",
        "  result = trainer.next(state, train_data)\n",
        "  state = result.state\n",
        "  metrics = result.metrics\n",
        "  print(metrics['client_work']['train']['loss'])"
      ],
      "metadata": {
        "id": "cjNTOBfSz-xu",
        "colab": {
          "base_uri": "https://localhost:8080/"
        },
        "outputId": "8616186b-ca5b-45c2-8a55-1941f592e1c6"
      },
      "execution_count": null,
      "outputs": [
        {
          "output_type": "stream",
          "name": "stdout",
          "text": [
            "0.00076848187\n",
            "3.2614002\n",
            "4.8429456\n",
            "4.8643184\n",
            "4.8412385\n",
            "3.431396\n",
            "3.2360978\n",
            "3.232224\n",
            "3.2577765\n",
            "1.7308906\n",
            "1.6257985\n",
            "3.304713\n",
            "3.3569214\n",
            "4.8727727\n",
            "3.2426803\n"
          ]
        }
      ]
    },
    {
      "cell_type": "code",
      "source": [],
      "metadata": {
        "id": "1FuT6blQ8wPo"
      },
      "execution_count": null,
      "outputs": []
    }
  ]
}